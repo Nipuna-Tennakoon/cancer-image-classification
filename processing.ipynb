{
 "cells": [
  {
   "cell_type": "code",
   "execution_count": 1,
   "metadata": {},
   "outputs": [],
   "source": [
    "#import libraries\n",
    "import os\n",
    "import shutil\n",
    "import pandas as pd\n",
    "import numpy as np\n",
    "import matplotlib.pyplot as plt\n",
    "import seaborn as sns\n",
    "import torch\n",
    "import torch.nn as nn\n",
    "import torch.optim as optim\n",
    "import torch.nn.functional as F\n",
    "from sklearn.model_selection import train_test_split\n",
    "from torch.utils.data import DataLoader\n",
    "from torchvision.transforms import transforms"
   ]
  },
  {
   "cell_type": "code",
   "execution_count": 2,
   "metadata": {},
   "outputs": [
    {
     "data": {
      "text/html": [
       "<div>\n",
       "<style scoped>\n",
       "    .dataframe tbody tr th:only-of-type {\n",
       "        vertical-align: middle;\n",
       "    }\n",
       "\n",
       "    .dataframe tbody tr th {\n",
       "        vertical-align: top;\n",
       "    }\n",
       "\n",
       "    .dataframe thead th {\n",
       "        text-align: right;\n",
       "    }\n",
       "</style>\n",
       "<table border=\"1\" class=\"dataframe\">\n",
       "  <thead>\n",
       "    <tr style=\"text-align: right;\">\n",
       "      <th></th>\n",
       "      <th>Unnamed: 0</th>\n",
       "      <th>isic_id</th>\n",
       "      <th>patient_id</th>\n",
       "      <th>target</th>\n",
       "    </tr>\n",
       "  </thead>\n",
       "  <tbody>\n",
       "    <tr>\n",
       "      <th>0</th>\n",
       "      <td>0</td>\n",
       "      <td>ISIC_0000000</td>\n",
       "      <td>dummy_0</td>\n",
       "      <td>0</td>\n",
       "    </tr>\n",
       "    <tr>\n",
       "      <th>1</th>\n",
       "      <td>1</td>\n",
       "      <td>ISIC_0000001</td>\n",
       "      <td>dummy_1</td>\n",
       "      <td>0</td>\n",
       "    </tr>\n",
       "    <tr>\n",
       "      <th>2</th>\n",
       "      <td>2</td>\n",
       "      <td>ISIC_0000002</td>\n",
       "      <td>dummy_2</td>\n",
       "      <td>1</td>\n",
       "    </tr>\n",
       "    <tr>\n",
       "      <th>3</th>\n",
       "      <td>3</td>\n",
       "      <td>ISIC_0000003</td>\n",
       "      <td>dummy_3</td>\n",
       "      <td>0</td>\n",
       "    </tr>\n",
       "    <tr>\n",
       "      <th>4</th>\n",
       "      <td>4</td>\n",
       "      <td>ISIC_0000004</td>\n",
       "      <td>dummy_4</td>\n",
       "      <td>1</td>\n",
       "    </tr>\n",
       "  </tbody>\n",
       "</table>\n",
       "</div>"
      ],
      "text/plain": [
       "   Unnamed: 0       isic_id patient_id  target\n",
       "0           0  ISIC_0000000    dummy_0       0\n",
       "1           1  ISIC_0000001    dummy_1       0\n",
       "2           2  ISIC_0000002    dummy_2       1\n",
       "3           3  ISIC_0000003    dummy_3       0\n",
       "4           4  ISIC_0000004    dummy_4       1"
      ]
     },
     "execution_count": 2,
     "metadata": {},
     "output_type": "execute_result"
    }
   ],
   "source": [
    "#import label dataset\n",
    "dataset = pd.read_csv('train-metadata.csv')\n",
    "dataset.head()"
   ]
  },
  {
   "cell_type": "code",
   "execution_count": 3,
   "metadata": {},
   "outputs": [
    {
     "name": "stdout",
     "output_type": "stream",
     "text": [
      "<class 'pandas.core.frame.DataFrame'>\n",
      "RangeIndex: 25330 entries, 0 to 25329\n",
      "Data columns (total 4 columns):\n",
      " #   Column      Non-Null Count  Dtype \n",
      "---  ------      --------------  ----- \n",
      " 0   Unnamed: 0  25330 non-null  int64 \n",
      " 1   isic_id     25330 non-null  object\n",
      " 2   patient_id  25330 non-null  object\n",
      " 3   target      25330 non-null  int64 \n",
      "dtypes: int64(2), object(2)\n",
      "memory usage: 791.7+ KB\n"
     ]
    }
   ],
   "source": [
    "dataset.info() #we need isic_id and target columns for the training purpose"
   ]
  },
  {
   "cell_type": "code",
   "execution_count": 4,
   "metadata": {},
   "outputs": [
    {
     "data": {
      "text/plain": [
       "target\n",
       "0    20808\n",
       "1     4522\n",
       "Name: count, dtype: int64"
      ]
     },
     "execution_count": 4,
     "metadata": {},
     "output_type": "execute_result"
    }
   ],
   "source": [
    "dataset['target'].value_counts() #to check the number of samples in each class"
   ]
  },
  {
   "cell_type": "markdown",
   "metadata": {},
   "source": [
    "**Decsion**\n",
    "\n",
    "There are 25330 images in the image data set. But we can see class imbalance in the data set. I suppose to do downsampling techniue to reduce the images having label 0. If not, the model will be  \n",
    "- Poor Generalization  \n",
    "The model learns patterns mainly from the majority class and struggles to recognize minority classes.\n",
    "\n",
    "- High Accuracy but Poor Performance  \n",
    "If 90% of the data is one class, the model can predict that class all the time and still get 90% accuracy, but it fails in real scenarios.\n",
    "\n",
    "- Misleading Loss & Metrics  \n",
    "Standard loss functions like CrossEntropyLoss assume balanced data, leading to incorrect optimization.  \n",
    "Metrics like accuracy become unreliable.\n",
    "\n",
    "\n"
   ]
  },
  {
   "cell_type": "code",
   "execution_count": 5,
   "metadata": {},
   "outputs": [
    {
     "data": {
      "text/html": [
       "<div>\n",
       "<style scoped>\n",
       "    .dataframe tbody tr th:only-of-type {\n",
       "        vertical-align: middle;\n",
       "    }\n",
       "\n",
       "    .dataframe tbody tr th {\n",
       "        vertical-align: top;\n",
       "    }\n",
       "\n",
       "    .dataframe thead th {\n",
       "        text-align: right;\n",
       "    }\n",
       "</style>\n",
       "<table border=\"1\" class=\"dataframe\">\n",
       "  <thead>\n",
       "    <tr style=\"text-align: right;\">\n",
       "      <th></th>\n",
       "      <th>Unnamed: 0</th>\n",
       "      <th>isic_id</th>\n",
       "      <th>patient_id</th>\n",
       "      <th>target</th>\n",
       "    </tr>\n",
       "  </thead>\n",
       "  <tbody>\n",
       "    <tr>\n",
       "      <th>484</th>\n",
       "      <td>0</td>\n",
       "      <td>ISIC_0000000</td>\n",
       "      <td>dummy_0</td>\n",
       "      <td>0</td>\n",
       "    </tr>\n",
       "    <tr>\n",
       "      <th>52</th>\n",
       "      <td>1</td>\n",
       "      <td>ISIC_0000001</td>\n",
       "      <td>dummy_1</td>\n",
       "      <td>0</td>\n",
       "    </tr>\n",
       "    <tr>\n",
       "      <th>149</th>\n",
       "      <td>2</td>\n",
       "      <td>ISIC_0000002</td>\n",
       "      <td>dummy_2</td>\n",
       "      <td>1</td>\n",
       "    </tr>\n",
       "    <tr>\n",
       "      <th>599</th>\n",
       "      <td>3</td>\n",
       "      <td>ISIC_0000003</td>\n",
       "      <td>dummy_3</td>\n",
       "      <td>0</td>\n",
       "    </tr>\n",
       "    <tr>\n",
       "      <th>543</th>\n",
       "      <td>4</td>\n",
       "      <td>ISIC_0000004</td>\n",
       "      <td>dummy_4</td>\n",
       "      <td>1</td>\n",
       "    </tr>\n",
       "  </tbody>\n",
       "</table>\n",
       "</div>"
      ],
      "text/plain": [
       "     Unnamed: 0       isic_id patient_id  target\n",
       "484           0  ISIC_0000000    dummy_0       0\n",
       "52            1  ISIC_0000001    dummy_1       0\n",
       "149           2  ISIC_0000002    dummy_2       1\n",
       "599           3  ISIC_0000003    dummy_3       0\n",
       "543           4  ISIC_0000004    dummy_4       1"
      ]
     },
     "execution_count": 5,
     "metadata": {},
     "output_type": "execute_result"
    }
   ],
   "source": [
    "#create a balanced dataset\n",
    "df_class_1 = dataset[dataset['target'] == 1].sort_values('isic_id').head(100)\n",
    "df_class_0 = dataset[dataset['target'] == 0].sort_values('isic_id').head(500)\n",
    "balanced_df = pd.concat([df_class_1, df_class_0])\n",
    "balanced_df = balanced_df.sample(frac=1, random_state=42).reset_index(drop=True).sort_values('isic_id')\n",
    "balanced_df.head()"
   ]
  },
  {
   "cell_type": "code",
   "execution_count": 6,
   "metadata": {},
   "outputs": [
    {
     "name": "stdout",
     "output_type": "stream",
     "text": [
      "Images have been successfully copied to the 'train_images' folder.\n"
     ]
    }
   ],
   "source": [
    "#create blanced image directory\n",
    "import os\n",
    "import shutil\n",
    "source_folder = r'D:\\Self Study\\3 Cancer Image Classification\\image'  \n",
    "destination_folder = 'train_images'\n",
    "os.makedirs(destination_folder, exist_ok=True)\n",
    "for isic_id in balanced_df['isic_id']:\n",
    "    source_file = os.path.join(source_folder, f\"{isic_id}.jpg\")  \n",
    "    destination_file = os.path.join(destination_folder, f\"{isic_id}.jpg\")\n",
    "    if os.path.exists(source_file):  \n",
    "        shutil.copy(source_file, destination_file)\n",
    "    else:\n",
    "        print(f\"Image {isic_id}.jpg not found in source folder.\")\n",
    "\n",
    "print(\"Images have been successfully copied to the 'train_images' folder.\")\n"
   ]
  },
  {
   "cell_type": "code",
   "execution_count": 7,
   "metadata": {},
   "outputs": [],
   "source": [
    "#save dataframe to csv\n",
    "balanced_df.to_csv('balanced_dataset.csv',index=False)"
   ]
  }
 ],
 "metadata": {
  "kernelspec": {
   "display_name": "Python 3",
   "language": "python",
   "name": "python3"
  },
  "language_info": {
   "codemirror_mode": {
    "name": "ipython",
    "version": 3
   },
   "file_extension": ".py",
   "mimetype": "text/x-python",
   "name": "python",
   "nbconvert_exporter": "python",
   "pygments_lexer": "ipython3",
   "version": "3.12.4"
  }
 },
 "nbformat": 4,
 "nbformat_minor": 2
}
